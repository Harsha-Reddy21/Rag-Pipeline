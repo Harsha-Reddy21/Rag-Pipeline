{
 "cells": [
  {
   "cell_type": "code",
   "execution_count": null,
   "id": "2b46fd37-193a-4d57-96fb-8c5979b830c6",
   "metadata": {},
   "outputs": [],
   "source": []
  },
  {
   "cell_type": "code",
   "execution_count": 1,
   "id": "312bc40f-dc27-45cb-9d97-05575370a352",
   "metadata": {},
   "outputs": [
    {
     "name": "stdout",
     "output_type": "stream",
     "text": [
      "Requirement already satisfied: nltk in c:\\users\\harsh\\appdata\\local\\programs\\python\\python312\\lib\\site-packages (3.9.1)\n",
      "Requirement already satisfied: gensim in c:\\users\\harsh\\appdata\\local\\programs\\python\\python312\\lib\\site-packages (4.3.3)\n",
      "Requirement already satisfied: transformers in c:\\users\\harsh\\appdata\\local\\programs\\python\\python312\\lib\\site-packages (4.52.4)\n",
      "Requirement already satisfied: sentence-transformers in c:\\users\\harsh\\appdata\\local\\programs\\python\\python312\\lib\\site-packages (5.0.0)\n",
      "Requirement already satisfied: openai in c:\\users\\harsh\\appdata\\local\\programs\\python\\python312\\lib\\site-packages (1.90.0)\n",
      "Requirement already satisfied: scikit-learn in c:\\users\\harsh\\appdata\\local\\programs\\python\\python312\\lib\\site-packages (1.6.1)\n",
      "Requirement already satisfied: umap-learn in c:\\users\\harsh\\appdata\\local\\programs\\python\\python312\\lib\\site-packages (0.5.9.post2)\n",
      "Requirement already satisfied: matplotlib in c:\\users\\harsh\\appdata\\local\\programs\\python\\python312\\lib\\site-packages (3.10.3)\n",
      "Requirement already satisfied: click in c:\\users\\harsh\\appdata\\local\\programs\\python\\python312\\lib\\site-packages (from nltk) (8.2.0)\n",
      "Requirement already satisfied: joblib in c:\\users\\harsh\\appdata\\local\\programs\\python\\python312\\lib\\site-packages (from nltk) (1.5.1)\n",
      "Requirement already satisfied: regex>=2021.8.3 in c:\\users\\harsh\\appdata\\local\\programs\\python\\python312\\lib\\site-packages (from nltk) (2024.11.6)\n",
      "Requirement already satisfied: tqdm in c:\\users\\harsh\\appdata\\local\\programs\\python\\python312\\lib\\site-packages (from nltk) (4.67.1)\n",
      "Requirement already satisfied: numpy<2.0,>=1.18.5 in c:\\users\\harsh\\appdata\\local\\programs\\python\\python312\\lib\\site-packages (from gensim) (1.26.4)\n",
      "Requirement already satisfied: scipy<1.14.0,>=1.7.0 in c:\\users\\harsh\\appdata\\local\\programs\\python\\python312\\lib\\site-packages (from gensim) (1.13.1)\n",
      "Requirement already satisfied: smart-open>=1.8.1 in c:\\users\\harsh\\appdata\\local\\programs\\python\\python312\\lib\\site-packages (from gensim) (7.1.0)\n",
      "Requirement already satisfied: filelock in c:\\users\\harsh\\appdata\\local\\programs\\python\\python312\\lib\\site-packages (from transformers) (3.13.1)\n",
      "Requirement already satisfied: huggingface-hub<1.0,>=0.30.0 in c:\\users\\harsh\\appdata\\local\\programs\\python\\python312\\lib\\site-packages (from transformers) (0.32.3)\n",
      "Requirement already satisfied: packaging>=20.0 in c:\\users\\harsh\\appdata\\local\\programs\\python\\python312\\lib\\site-packages (from transformers) (23.2)\n",
      "Requirement already satisfied: pyyaml>=5.1 in c:\\users\\harsh\\appdata\\local\\programs\\python\\python312\\lib\\site-packages (from transformers) (6.0.2)\n",
      "Requirement already satisfied: requests in c:\\users\\harsh\\appdata\\local\\programs\\python\\python312\\lib\\site-packages (from transformers) (2.32.3)\n",
      "Requirement already satisfied: tokenizers<0.22,>=0.21 in c:\\users\\harsh\\appdata\\local\\programs\\python\\python312\\lib\\site-packages (from transformers) (0.21.1)\n",
      "Requirement already satisfied: safetensors>=0.4.3 in c:\\users\\harsh\\appdata\\local\\programs\\python\\python312\\lib\\site-packages (from transformers) (0.5.3)\n",
      "Requirement already satisfied: torch>=1.11.0 in c:\\users\\harsh\\appdata\\local\\programs\\python\\python312\\lib\\site-packages (from sentence-transformers) (2.7.0+cu118)\n",
      "Requirement already satisfied: Pillow in c:\\users\\harsh\\appdata\\local\\programs\\python\\python312\\lib\\site-packages (from sentence-transformers) (9.5.0)\n",
      "Requirement already satisfied: typing_extensions>=4.5.0 in c:\\users\\harsh\\appdata\\local\\programs\\python\\python312\\lib\\site-packages (from sentence-transformers) (4.13.2)\n",
      "Requirement already satisfied: anyio<5,>=3.5.0 in c:\\users\\harsh\\appdata\\local\\programs\\python\\python312\\lib\\site-packages (from openai) (3.7.1)\n",
      "Requirement already satisfied: distro<2,>=1.7.0 in c:\\users\\harsh\\appdata\\local\\programs\\python\\python312\\lib\\site-packages (from openai) (1.9.0)\n",
      "Requirement already satisfied: httpx<1,>=0.23.0 in c:\\users\\harsh\\appdata\\local\\programs\\python\\python312\\lib\\site-packages (from openai) (0.28.1)\n",
      "Requirement already satisfied: jiter<1,>=0.4.0 in c:\\users\\harsh\\appdata\\local\\programs\\python\\python312\\lib\\site-packages (from openai) (0.10.0)\n",
      "Requirement already satisfied: pydantic<3,>=1.9.0 in c:\\users\\harsh\\appdata\\local\\programs\\python\\python312\\lib\\site-packages (from openai) (2.4.2)\n",
      "Requirement already satisfied: sniffio in c:\\users\\harsh\\appdata\\local\\programs\\python\\python312\\lib\\site-packages (from openai) (1.3.1)\n",
      "Requirement already satisfied: threadpoolctl>=3.1.0 in c:\\users\\harsh\\appdata\\local\\programs\\python\\python312\\lib\\site-packages (from scikit-learn) (3.6.0)\n",
      "Requirement already satisfied: numba>=0.51.2 in c:\\users\\harsh\\appdata\\local\\programs\\python\\python312\\lib\\site-packages (from umap-learn) (0.61.2)\n",
      "Requirement already satisfied: pynndescent>=0.5 in c:\\users\\harsh\\appdata\\local\\programs\\python\\python312\\lib\\site-packages (from umap-learn) (0.5.13)\n",
      "Requirement already satisfied: contourpy>=1.0.1 in c:\\users\\harsh\\appdata\\local\\programs\\python\\python312\\lib\\site-packages (from matplotlib) (1.3.2)\n",
      "Requirement already satisfied: cycler>=0.10 in c:\\users\\harsh\\appdata\\local\\programs\\python\\python312\\lib\\site-packages (from matplotlib) (0.12.1)\n",
      "Requirement already satisfied: fonttools>=4.22.0 in c:\\users\\harsh\\appdata\\local\\programs\\python\\python312\\lib\\site-packages (from matplotlib) (4.58.0)\n",
      "Requirement already satisfied: kiwisolver>=1.3.1 in c:\\users\\harsh\\appdata\\local\\programs\\python\\python312\\lib\\site-packages (from matplotlib) (1.4.8)\n",
      "Requirement already satisfied: pyparsing>=2.3.1 in c:\\users\\harsh\\appdata\\local\\programs\\python\\python312\\lib\\site-packages (from matplotlib) (3.2.3)\n",
      "Requirement already satisfied: python-dateutil>=2.7 in c:\\users\\harsh\\appdata\\local\\programs\\python\\python312\\lib\\site-packages (from matplotlib) (2.8.2)\n",
      "Requirement already satisfied: idna>=2.8 in c:\\users\\harsh\\appdata\\local\\programs\\python\\python312\\lib\\site-packages (from anyio<5,>=3.5.0->openai) (3.4)\n",
      "Requirement already satisfied: certifi in c:\\users\\harsh\\appdata\\local\\programs\\python\\python312\\lib\\site-packages (from httpx<1,>=0.23.0->openai) (2022.12.7)\n",
      "Requirement already satisfied: httpcore==1.* in c:\\users\\harsh\\appdata\\local\\programs\\python\\python312\\lib\\site-packages (from httpx<1,>=0.23.0->openai) (1.0.9)\n",
      "Requirement already satisfied: h11>=0.16 in c:\\users\\harsh\\appdata\\local\\programs\\python\\python312\\lib\\site-packages (from httpcore==1.*->httpx<1,>=0.23.0->openai) (0.16.0)\n",
      "Requirement already satisfied: fsspec>=2023.5.0 in c:\\users\\harsh\\appdata\\local\\programs\\python\\python312\\lib\\site-packages (from huggingface-hub<1.0,>=0.30.0->transformers) (2024.6.1)\n",
      "Requirement already satisfied: llvmlite<0.45,>=0.44.0dev0 in c:\\users\\harsh\\appdata\\local\\programs\\python\\python312\\lib\\site-packages (from numba>=0.51.2->umap-learn) (0.44.0)\n",
      "Requirement already satisfied: annotated-types>=0.4.0 in c:\\users\\harsh\\appdata\\local\\programs\\python\\python312\\lib\\site-packages (from pydantic<3,>=1.9.0->openai) (0.7.0)\n",
      "Requirement already satisfied: pydantic-core==2.10.1 in c:\\users\\harsh\\appdata\\local\\programs\\python\\python312\\lib\\site-packages (from pydantic<3,>=1.9.0->openai) (2.10.1)\n",
      "Requirement already satisfied: six>=1.5 in c:\\users\\harsh\\appdata\\local\\programs\\python\\python312\\lib\\site-packages (from python-dateutil>=2.7->matplotlib) (1.16.0)\n",
      "Requirement already satisfied: wrapt in c:\\users\\harsh\\appdata\\local\\programs\\python\\python312\\lib\\site-packages (from smart-open>=1.8.1->gensim) (1.17.2)\n",
      "Requirement already satisfied: sympy>=1.13.3 in c:\\users\\harsh\\appdata\\local\\programs\\python\\python312\\lib\\site-packages (from torch>=1.11.0->sentence-transformers) (1.13.3)\n",
      "Requirement already satisfied: networkx in c:\\users\\harsh\\appdata\\local\\programs\\python\\python312\\lib\\site-packages (from torch>=1.11.0->sentence-transformers) (3.3)\n",
      "Requirement already satisfied: jinja2 in c:\\users\\harsh\\appdata\\local\\programs\\python\\python312\\lib\\site-packages (from torch>=1.11.0->sentence-transformers) (3.1.6)\n",
      "Requirement already satisfied: setuptools in c:\\users\\harsh\\appdata\\local\\programs\\python\\python312\\lib\\site-packages (from torch>=1.11.0->sentence-transformers) (70.2.0)\n",
      "Requirement already satisfied: colorama in c:\\users\\harsh\\appdata\\local\\programs\\python\\python312\\lib\\site-packages (from tqdm->nltk) (0.4.6)\n",
      "Requirement already satisfied: charset-normalizer<4,>=2 in c:\\users\\harsh\\appdata\\local\\programs\\python\\python312\\lib\\site-packages (from requests->transformers) (3.1.0)\n",
      "Requirement already satisfied: urllib3<3,>=1.21.1 in c:\\users\\harsh\\appdata\\local\\programs\\python\\python312\\lib\\site-packages (from requests->transformers) (1.26.15)\n",
      "Requirement already satisfied: mpmath<1.4,>=1.1.0 in c:\\users\\harsh\\appdata\\local\\programs\\python\\python312\\lib\\site-packages (from sympy>=1.13.3->torch>=1.11.0->sentence-transformers) (1.3.0)\n",
      "Requirement already satisfied: MarkupSafe>=2.0 in c:\\users\\harsh\\appdata\\local\\programs\\python\\python312\\lib\\site-packages (from jinja2->torch>=1.11.0->sentence-transformers) (3.0.2)\n"
     ]
    },
    {
     "name": "stderr",
     "output_type": "stream",
     "text": [
      "WARNING: Ignoring invalid distribution ~treamlit (C:\\Users\\harsh\\AppData\\Local\\Programs\\Python\\Python312\\Lib\\site-packages)\n",
      "WARNING: Ignoring invalid distribution ~treamlit (C:\\Users\\harsh\\AppData\\Local\\Programs\\Python\\Python312\\Lib\\site-packages)\n",
      "WARNING: Ignoring invalid distribution ~treamlit (C:\\Users\\harsh\\AppData\\Local\\Programs\\Python\\Python312\\Lib\\site-packages)\n",
      "\n",
      "[notice] A new release of pip is available: 25.0.1 -> 25.1.1\n",
      "[notice] To update, run: python.exe -m pip install --upgrade pip\n"
     ]
    }
   ],
   "source": [
    "!pip install nltk gensim transformers sentence-transformers openai scikit-learn umap-learn matplotlib\n"
   ]
  },
  {
   "cell_type": "code",
   "execution_count": null,
   "id": "9015ba1d-6615-4d76-955c-ed0ae5e7f94c",
   "metadata": {},
   "outputs": [],
   "source": []
  },
  {
   "cell_type": "code",
   "execution_count": 2,
   "id": "2e688edc-6c42-4234-9d0f-68e6abc86208",
   "metadata": {},
   "outputs": [
    {
     "name": "stderr",
     "output_type": "stream",
     "text": [
      "[nltk_data] Downloading package punkt to\n",
      "[nltk_data]     C:\\Users\\harsh\\AppData\\Roaming\\nltk_data...\n",
      "[nltk_data]   Package punkt is already up-to-date!\n"
     ]
    }
   ],
   "source": [
    "# Sample schema\n",
    "# columns: [\"text\", \"label\"] where label ∈ [\"Tech\", \"Finance\", \"Healthcare\", \"Sports\", \"Politics\", \"Entertainment\"]\n",
    "\n",
    "import pandas as pd\n",
    "from sklearn.model_selection import train_test_split\n",
    "from sklearn.preprocessing import LabelEncoder\n",
    "import nltk\n",
    "nltk.download('punkt')\n",
    "\n",
    "df = pd.read_csv(\"news_dataset.csv\")\n",
    "df['text'] = df['text'].fillna(\"\")\n",
    "\n",
    "le = LabelEncoder()\n",
    "df['label_enc'] = le.fit_transform(df['label'])\n",
    "\n",
    "X_train, X_test, y_train, y_test = train_test_split(df['text'], df['label_enc'], test_size=0.2, random_state=42)\n"
   ]
  },
  {
   "cell_type": "code",
   "execution_count": 3,
   "id": "67ab5f4d-6ed4-4ea5-ace7-ff610e04877e",
   "metadata": {},
   "outputs": [
    {
     "data": {
      "text/html": [
       "<div>\n",
       "<style scoped>\n",
       "    .dataframe tbody tr th:only-of-type {\n",
       "        vertical-align: middle;\n",
       "    }\n",
       "\n",
       "    .dataframe tbody tr th {\n",
       "        vertical-align: top;\n",
       "    }\n",
       "\n",
       "    .dataframe thead th {\n",
       "        text-align: right;\n",
       "    }\n",
       "</style>\n",
       "<table border=\"1\" class=\"dataframe\">\n",
       "  <thead>\n",
       "    <tr style=\"text-align: right;\">\n",
       "      <th></th>\n",
       "      <th>text</th>\n",
       "      <th>label</th>\n",
       "      <th>label_enc</th>\n",
       "    </tr>\n",
       "  </thead>\n",
       "  <tbody>\n",
       "    <tr>\n",
       "      <th>0</th>\n",
       "      <td>Healthcare providers are rapidly adopting tele...</td>\n",
       "      <td>Healthcare</td>\n",
       "      <td>2</td>\n",
       "    </tr>\n",
       "    <tr>\n",
       "      <th>1</th>\n",
       "      <td>Researchers at MIT have developed quantum proc...</td>\n",
       "      <td>Tech</td>\n",
       "      <td>5</td>\n",
       "    </tr>\n",
       "    <tr>\n",
       "      <th>2</th>\n",
       "      <td>The FDA approved a novel vaccine for respirato...</td>\n",
       "      <td>Healthcare</td>\n",
       "      <td>2</td>\n",
       "    </tr>\n",
       "    <tr>\n",
       "      <th>3</th>\n",
       "      <td>A bipartisan bill aims to reform immigration p...</td>\n",
       "      <td>Politics</td>\n",
       "      <td>3</td>\n",
       "    </tr>\n",
       "    <tr>\n",
       "      <th>4</th>\n",
       "      <td>The national football team secured a dramatic ...</td>\n",
       "      <td>Sports</td>\n",
       "      <td>4</td>\n",
       "    </tr>\n",
       "  </tbody>\n",
       "</table>\n",
       "</div>"
      ],
      "text/plain": [
       "                                                text       label  label_enc\n",
       "0  Healthcare providers are rapidly adopting tele...  Healthcare          2\n",
       "1  Researchers at MIT have developed quantum proc...        Tech          5\n",
       "2  The FDA approved a novel vaccine for respirato...  Healthcare          2\n",
       "3  A bipartisan bill aims to reform immigration p...    Politics          3\n",
       "4  The national football team secured a dramatic ...      Sports          4"
      ]
     },
     "execution_count": 3,
     "metadata": {},
     "output_type": "execute_result"
    }
   ],
   "source": [
    "df.head(5)"
   ]
  },
  {
   "cell_type": "code",
   "execution_count": null,
   "id": "1c807df9-46fd-4941-a365-cb0cc321aabc",
   "metadata": {},
   "outputs": [],
   "source": []
  },
  {
   "cell_type": "code",
   "execution_count": null,
   "id": "e27e4117-c090-441e-b1b9-3fcbae19adbb",
   "metadata": {},
   "outputs": [],
   "source": []
  },
  {
   "cell_type": "code",
   "execution_count": 4,
   "id": "6f424daf-7987-47f4-bab4-539f468b5e63",
   "metadata": {},
   "outputs": [],
   "source": [
    "from gensim.models import KeyedVectors\n",
    "\n",
    "model_path = r\"word2vec-google-news-300\\word2vec-google-news-300.model\"\n",
    "word2vec = KeyedVectors.load(model_path)\n"
   ]
  },
  {
   "cell_type": "code",
   "execution_count": 5,
   "id": "c466163d-1c05-4313-9d2c-1a298c79d3a6",
   "metadata": {},
   "outputs": [
    {
     "data": {
      "text/plain": [
       "<gensim.models.keyedvectors.KeyedVectors at 0x1471e3e4380>"
      ]
     },
     "execution_count": 5,
     "metadata": {},
     "output_type": "execute_result"
    }
   ],
   "source": [
    "word2vec"
   ]
  },
  {
   "cell_type": "code",
   "execution_count": 9,
   "id": "09d5c2ed-5d01-419e-9d55-efd9ecd56834",
   "metadata": {},
   "outputs": [],
   "source": [
    "from gensim.models import KeyedVectors\n",
    "from nltk.tokenize import word_tokenize\n",
    "import numpy as np\n",
    "\n",
    "def get_word2vec_embedding(text):\n",
    "    tokens = word_tokenize(text.lower())\n",
    "    vectors = [word2vec[word] for word in tokens if word in word2vec]\n",
    "    return np.mean(vectors, axis=0) if vectors else np.zeros(word2vec.vector_size)\n",
    "\n",
    "w2v_train = np.vstack([get_word2vec_embedding(text) for text in X_train])\n",
    "w2v_test = np.vstack([get_word2vec_embedding(text) for text in X_test])\n",
    "\n"
   ]
  },
  {
   "cell_type": "code",
   "execution_count": 13,
   "id": "c9c7d510-cf17-407b-bf5b-00f0f2c41dfb",
   "metadata": {},
   "outputs": [
    {
     "data": {
      "text/plain": [
       "(300,)"
      ]
     },
     "execution_count": 13,
     "metadata": {},
     "output_type": "execute_result"
    }
   ],
   "source": [
    "w2v_train[0].shape"
   ]
  },
  {
   "cell_type": "code",
   "execution_count": null,
   "id": "64a75ecc-9998-4f11-8eef-0ead12ffc97a",
   "metadata": {},
   "outputs": [],
   "source": []
  },
  {
   "cell_type": "code",
   "execution_count": 14,
   "id": "ba276a3a-9f63-4dd7-bfda-ae07a2adf61c",
   "metadata": {},
   "outputs": [],
   "source": [
    "from transformers import BertTokenizer, BertModel\n",
    "import torch\n",
    "\n",
    "bert_tokenizer = BertTokenizer.from_pretrained('bert-base-uncased')\n",
    "bert_model = BertModel.from_pretrained('bert-base-uncased')\n",
    "\n",
    "def get_bert_cls_embedding(text):\n",
    "    tokens = bert_tokenizer(text, return_tensors='pt', truncation=True, max_length=512)\n",
    "    with torch.no_grad():\n",
    "        output = bert_model(**tokens)\n",
    "    return output.last_hidden_state[:, 0, :].squeeze().numpy()\n",
    "\n",
    "bert_train = np.vstack([get_bert_cls_embedding(text) for text in X_train])\n",
    "bert_test = np.vstack([get_bert_cls_embedding(text) for text in X_test])\n"
   ]
  },
  {
   "cell_type": "code",
   "execution_count": 15,
   "id": "72c0caf2-7b50-4512-a38c-f28ad88b91b1",
   "metadata": {},
   "outputs": [
    {
     "data": {
      "text/plain": [
       "(768,)"
      ]
     },
     "execution_count": 15,
     "metadata": {},
     "output_type": "execute_result"
    }
   ],
   "source": [
    "bert_train[0].shape"
   ]
  },
  {
   "cell_type": "code",
   "execution_count": 16,
   "id": "4a7c7802-9d96-4d33-af05-2b8a175b71a0",
   "metadata": {},
   "outputs": [
    {
     "data": {
      "application/vnd.jupyter.widget-view+json": {
       "model_id": "0ac1457425f347b987c8901d8deb08cf",
       "version_major": 2,
       "version_minor": 0
      },
      "text/plain": [
       "Batches:   0%|          | 0/25 [00:00<?, ?it/s]"
      ]
     },
     "metadata": {},
     "output_type": "display_data"
    },
    {
     "data": {
      "application/vnd.jupyter.widget-view+json": {
       "model_id": "1e02e2a2fd00495687f22b6f31e005c7",
       "version_major": 2,
       "version_minor": 0
      },
      "text/plain": [
       "Batches:   0%|          | 0/7 [00:00<?, ?it/s]"
      ]
     },
     "metadata": {},
     "output_type": "display_data"
    }
   ],
   "source": [
    "from sentence_transformers import SentenceTransformer\n",
    "\n",
    "sbert = SentenceTransformer(\"all-MiniLM-L6-v2\")\n",
    "sbert_train = sbert.encode(X_train.tolist(), show_progress_bar=True)\n",
    "sbert_test = sbert.encode(X_test.tolist(), show_progress_bar=True)\n"
   ]
  },
  {
   "cell_type": "code",
   "execution_count": 17,
   "id": "a468f2db-f09a-4595-92c1-92df40c75ae1",
   "metadata": {},
   "outputs": [
    {
     "data": {
      "text/plain": [
       "(384,)"
      ]
     },
     "execution_count": 17,
     "metadata": {},
     "output_type": "execute_result"
    }
   ],
   "source": [
    "sbert_train[0].shape"
   ]
  },
  {
   "cell_type": "code",
   "execution_count": null,
   "id": "69643588-0b09-40aa-8e02-b3c1ac6732ce",
   "metadata": {},
   "outputs": [],
   "source": [
    "import openai\n",
    "import time\n",
    "from dotenv import load_dotenv\n",
    "load_dotenv()\n",
    "openai.api_key = os.getenv('OPENAI_API_KEY')\n",
    "\n",
    "def get_openai_embedding(text):\n",
    "    try:\n",
    "        response = openai.Embedding.create(model=\"text-embedding-ada-002\", input=text)\n",
    "        return response['data'][0]['embedding']\n",
    "    except Exception as e:\n",
    "        print(\"Error:\", e)\n",
    "        return [0.0] * 1536\n",
    "\n",
    "openai_train = np.vstack([get_openai_embedding(text) for text in X_train])\n",
    "openai_test = np.vstack([get_openai_embedding(text) for text in X_test])\n"
   ]
  },
  {
   "cell_type": "code",
   "execution_count": 18,
   "id": "f3f58048-3c7a-4442-b9c3-0ae3602776ce",
   "metadata": {},
   "outputs": [],
   "source": [
    "from sklearn.linear_model import LogisticRegression\n",
    "from sklearn.metrics import classification_report\n",
    "\n",
    "def train_and_report(X_train, X_test, y_train, y_test, label, classes):\n",
    "    clf = LogisticRegression(max_iter=1000)\n",
    "    clf.fit(X_train, y_train)\n",
    "    preds = clf.predict(X_test)\n",
    "    print(f\"\\n📊 Classification Report - {label}\")\n",
    "    print(classification_report(y_test, preds, target_names=classes))\n",
    "    return clf\n"
   ]
  },
  {
   "cell_type": "code",
   "execution_count": 19,
   "id": "c420a2f3-3562-4011-83ef-01faf0e8681f",
   "metadata": {},
   "outputs": [
    {
     "name": "stdout",
     "output_type": "stream",
     "text": [
      "\n",
      "📊 Classification Report - Word2Vec\n",
      "               precision    recall  f1-score   support\n",
      "\n",
      "Entertainment       1.00      1.00      1.00        34\n",
      "      Finance       1.00      1.00      1.00        34\n",
      "   Healthcare       1.00      1.00      1.00        36\n",
      "     Politics       1.00      1.00      1.00        35\n",
      "       Sports       1.00      1.00      1.00        30\n",
      "         Tech       1.00      1.00      1.00        31\n",
      "\n",
      "     accuracy                           1.00       200\n",
      "    macro avg       1.00      1.00      1.00       200\n",
      " weighted avg       1.00      1.00      1.00       200\n",
      "\n",
      "\n",
      "📊 Classification Report - BERT\n",
      "               precision    recall  f1-score   support\n",
      "\n",
      "Entertainment       1.00      1.00      1.00        34\n",
      "      Finance       1.00      1.00      1.00        34\n",
      "   Healthcare       1.00      1.00      1.00        36\n",
      "     Politics       1.00      1.00      1.00        35\n",
      "       Sports       1.00      1.00      1.00        30\n",
      "         Tech       1.00      1.00      1.00        31\n",
      "\n",
      "     accuracy                           1.00       200\n",
      "    macro avg       1.00      1.00      1.00       200\n",
      " weighted avg       1.00      1.00      1.00       200\n",
      "\n",
      "\n",
      "📊 Classification Report - SBERT\n",
      "               precision    recall  f1-score   support\n",
      "\n",
      "Entertainment       1.00      1.00      1.00        34\n",
      "      Finance       1.00      1.00      1.00        34\n",
      "   Healthcare       1.00      1.00      1.00        36\n",
      "     Politics       1.00      1.00      1.00        35\n",
      "       Sports       1.00      1.00      1.00        30\n",
      "         Tech       1.00      1.00      1.00        31\n",
      "\n",
      "     accuracy                           1.00       200\n",
      "    macro avg       1.00      1.00      1.00       200\n",
      " weighted avg       1.00      1.00      1.00       200\n",
      "\n"
     ]
    }
   ],
   "source": [
    "clf_w2v = train_and_report(w2v_train, w2v_test, y_train, y_test, \"Word2Vec\", le.classes_)\n",
    "clf_bert = train_and_report(bert_train, bert_test, y_train, y_test, \"BERT\", le.classes_)\n",
    "clf_sbert = train_and_report(sbert_train, sbert_test, y_train, y_test, \"SBERT\", le.classes_)\n",
    "#clf_openai = train_and_report(openai_train, openai_test, y_train, y_test, \"OpenAI\", le.classes_)\n"
   ]
  },
  {
   "cell_type": "code",
   "execution_count": 20,
   "id": "be266d16-f6dd-4a29-bf9e-f354d6b27c07",
   "metadata": {},
   "outputs": [],
   "source": [
    "def classify_article(text):\n",
    "    emb_w2v = get_word2vec_embedding(text)\n",
    "    emb_bert = get_bert_cls_embedding(text)\n",
    "    emb_sbert = sbert.encode([text])[0]\n",
    "    # emb_openai = get_openai_embedding(text)\n",
    "\n",
    "    pred_w2v = clf_w2v.predict_proba([emb_w2v])[0]\n",
    "    pred_bert = clf_bert.predict_proba([emb_bert])[0]\n",
    "    pred_sbert = clf_sbert.predict_proba([emb_sbert])[0]\n",
    "    # pred_openai = clf_openai.predict_proba([emb_openai])[0]\n",
    "\n",
    "    return {\n",
    "        \"Word2Vec\": dict(zip(le.classes_, pred_w2v)),\n",
    "        \"BERT\": dict(zip(le.classes_, pred_bert)),\n",
    "        \"SBERT\": dict(zip(le.classes_, pred_sbert)),\n",
    "        # \"OpenAI\": dict(zip(le.classes_, pred_openai)),\n",
    "    }\n"
   ]
  },
  {
   "cell_type": "code",
   "execution_count": 21,
   "id": "6afe1f92-d293-4f83-a5f4-15807f85b88a",
   "metadata": {},
   "outputs": [
    {
     "name": "stderr",
     "output_type": "stream",
     "text": [
      "C:\\Users\\harsh\\AppData\\Local\\Programs\\Python\\Python312\\Lib\\site-packages\\umap\\umap_.py:1952: UserWarning: n_jobs value 1 overridden to 1 by setting random_state. Use no seed for parallelism.\n",
      "  warn(\n"
     ]
    },
    {
     "data": {
      "image/png": "[encoded data removed]",
      "text/plain": [
       "<Figure size 800x600 with 1 Axes>"
      ]
     },
     "metadata": {},
     "output_type": "display_data"
    }
   ],
   "source": [
    "import umap\n",
    "import matplotlib.pyplot as plt\n",
    "\n",
    "def visualize(X, y, title):\n",
    "    reducer = umap.UMAP(n_neighbors=10, min_dist=0.1, random_state=42)\n",
    "    X_umap = reducer.fit_transform(X)\n",
    "    plt.figure(figsize=(8, 6))\n",
    "    for label in np.unique(y):\n",
    "        idx = y == label\n",
    "        plt.scatter(X_umap[idx, 0], X_umap[idx, 1], label=le.inverse_transform([label])[0])\n",
    "    plt.legend()\n",
    "    plt.title(title)\n",
    "    plt.show()\n",
    "\n",
    "visualize(sbert_train, y_train.to_numpy(), \"SBERT Embeddings\")\n"
   ]
  },
  {
   "cell_type": "code",
   "execution_count": null,
   "id": "88945c55-bfbb-41ca-ba28-868a9e53a185",
   "metadata": {},
   "outputs": [],
   "source": []
  }
 ],
 "metadata": {
  "kernelspec": {
   "display_name": "Python 3 (ipykernel)",
   "language": "python",
   "name": "python3"
  },
  "language_info": {
   "codemirror_mode": {
    "name": "ipython",
    "version": 3
   },
   "file_extension": ".py",
   "mimetype": "text/x-python",
   "name": "python",
   "nbconvert_exporter": "python",
   "pygments_lexer": "ipython3",
   "version": "3.12.10"
  }
 },
 "nbformat": 4,
 "nbformat_minor": 5
}
